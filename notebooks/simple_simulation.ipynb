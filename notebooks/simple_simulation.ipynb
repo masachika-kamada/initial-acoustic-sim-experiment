{
 "cells": [
  {
   "cell_type": "code",
   "execution_count": 1,
   "metadata": {},
   "outputs": [],
   "source": [
    "import wave\n",
    "import pyroomacoustics as pra\n",
    "import numpy as np\n",
    "from pydub import AudioSegment\n",
    "import scipy.signal as signal\n",
    "import scipy as scipy\n",
    "import os\n",
    "import matplotlib.pyplot as plt\n",
    "\n",
    "import sys\n",
    "sys.path.append(\"../\")\n",
    "from src.file_io import write_signal_to_wav, write_signal_to_npz\n",
    "from src.audio_processing import normalize_and_pad_audio_files, calculate_snr"
   ]
  },
  {
   "cell_type": "code",
   "execution_count": 2,
   "metadata": {},
   "outputs": [],
   "source": [
    "np.random.seed(0)\n",
    "wave_files = [\"../data/raw/samaple/arctic_a0001.wav\", \"../data/raw/samaple/arctic_a0002.wav\"]\n",
    "audio_data = normalize_and_pad_audio_files(wave_files)\n",
    "\n",
    "# パラメータの設定\n",
    "n_sim_sources = 2\n",
    "sample_rate = 16000\n",
    "N = 1024\n",
    "Nk = int(N / 2 + 1)\n",
    "freqs = np.arange(0, Nk, 1) * sample_rate / N\n",
    "SNR = 90.0\n",
    "azimuth_th = 30.0\n",
    "room_dim = np.array([10.0, 10.0, 10.0])"
   ]
  },
  {
   "cell_type": "code",
   "execution_count": 4,
   "metadata": {},
   "outputs": [],
   "source": [
    "mic_array_loc = room_dim / 2 + np.random.randn(3) * 0.1\n",
    "mic_directions = np.array([[np.pi / 2.0, theta / 180.0 * np.pi] for theta in np.arange(180, 361, 180)])\n",
    "\n",
    "distance = 0.01\n",
    "mic_alignments = np.zeros((3, mic_directions.shape[0]), dtype=mic_directions.dtype)\n",
    "mic_alignments[0, :] = np.cos(mic_directions[:, 1]) * np.sin(mic_directions[:, 0])\n",
    "mic_alignments[1, :] = np.sin(mic_directions[:, 1]) * np.sin(mic_directions[:, 0])\n",
    "mic_alignments[2, :] = np.array([5, 5])\n",
    "mic_alignments *= distance\n",
    "\n",
    "R = mic_alignments + mic_array_loc[:, None]\n",
    "room = pra.ShoeBox(room_dim, fs=sample_rate, max_order=0)\n",
    "room.add_microphone_array(pra.MicrophoneArray(R, fs=room.fs))\n",
    "room_no_noise_left = pra.ShoeBox(room_dim, fs=sample_rate, max_order=0)\n",
    "room_no_noise_left.add_microphone_array(pra.MicrophoneArray(R, fs=room.fs))\n",
    "room_no_noise_right = pra.ShoeBox(room_dim, fs=sample_rate, max_order=0)\n",
    "room_no_noise_right.add_microphone_array(pra.MicrophoneArray(R, fs=room.fs))\n",
    "\n",
    "# 場所\n",
    "doas = np.array([[np.pi / 2.0, np.pi], [np.pi / 2.0, 0]])\n",
    "# 音源とマイクロホンの距離\n",
    "distance = 1.0\n",
    "\n",
    "source_locations = np.zeros((3, doas.shape[0]), dtype=doas.dtype)\n",
    "source_locations[0, :] = np.cos(doas[:, 1]) * np.sin(doas[:, 0])\n",
    "source_locations[1, :] = np.sin(doas[:, 1]) * np.sin(doas[:, 0])\n",
    "# source_locations[2, :] = np.cos(doas[:, 0])\n",
    "source_locations *= distance\n",
    "source_locations += mic_array_loc[:, None]"
   ]
  },
  {
   "cell_type": "code",
   "execution_count": 5,
   "metadata": {},
   "outputs": [],
   "source": [
    "# シミュレーションを回す\n",
    "for s in range(n_sim_sources):\n",
    "    room.add_source(source_locations[:, s], signal=audio_data[s])\n",
    "    if s == 0:\n",
    "        room_no_noise_left.add_source(source_locations[:, s], signal=audio_data[s])\n",
    "    if s == 1:\n",
    "        room_no_noise_right.add_source(source_locations[:, s], signal=audio_data[s])\n",
    "\n",
    "room.simulate(snr=SNR)\n",
    "room_no_noise_left.simulate(snr=90)\n",
    "room_no_noise_right.simulate(snr=90)\n",
    "multi_conv_data = room.mic_array.signals\n",
    "multi_conv_data_left_no_noise = room_no_noise_left.mic_array.signals\n",
    "multi_conv_data_right_no_noise = room_no_noise_right.mic_array.signals"
   ]
  },
  {
   "cell_type": "code",
   "execution_count": 7,
   "metadata": {},
   "outputs": [
    {
     "name": "stdout",
     "output_type": "stream",
     "text": [
      "Δsnr [dB]: 15.57   15.57\n"
     ]
    }
   ],
   "source": [
    "# 短時間フーリエ変換を行う\n",
    "f, t, stft_data = signal.stft(multi_conv_data, fs=sample_rate, window=\"hann\", nperseg=N)\n",
    "\n",
    "# ICAの繰り返し回数\n",
    "n_ica_iterations = 50\n",
    "\n",
    "# Pyroomacousticsによる音源分離\n",
    "# nframes, nfrequencies, nchannels\n",
    "# 入力信号のインデックスの順番を( M, Nk, Lt)から(Lt,Nk,M)に変換する\n",
    "y_pa_auxiva = pra.bss.auxiva(np.transpose(stft_data, (2, 1, 0)), n_iter=n_ica_iterations)\n",
    "y_pa_auxiva = np.transpose(y_pa_auxiva, (2, 1, 0))[None, ...]\n",
    "\n",
    "y_pa_ilrma = pra.bss.ilrma(np.transpose(stft_data, (2, 1, 0)), n_iter=n_ica_iterations)\n",
    "y_pa_ilrma = np.transpose(y_pa_ilrma, (2, 1, 0))[None, ...]\n",
    "\n",
    "t, y_pa_auxiva = signal.istft(y_pa_auxiva[0, ...], fs=sample_rate, window=\"hann\", nperseg=N)\n",
    "t, y_pa_ilrma = signal.istft(y_pa_ilrma[0, ...], fs=sample_rate, window=\"hann\", nperseg=N)\n",
    "\n",
    "snr_pre = calculate_snr(multi_conv_data_left_no_noise[0, ...], multi_conv_data[0, ...]) + calculate_snr(\n",
    "    multi_conv_data_right_no_noise[0, ...], multi_conv_data[0, ...]\n",
    ")\n",
    "snr_pre /= 2.0\n",
    "\n",
    "snr_pa_ilrma_post1 = calculate_snr(multi_conv_data_left_no_noise[0, ...], y_pa_ilrma[0, ...]) + calculate_snr(\n",
    "    multi_conv_data_right_no_noise[0, ...], y_pa_ilrma[1, ...]\n",
    ")\n",
    "snr_pa_ilrma_post2 = calculate_snr(multi_conv_data_left_no_noise[0, ...], y_pa_ilrma[1, ...]) + calculate_snr(\n",
    "    multi_conv_data_right_no_noise[0, ...], y_pa_ilrma[0, ...]\n",
    ")\n",
    "\n",
    "snr_pa_ilrma_post = np.maximum(snr_pa_ilrma_post1, snr_pa_ilrma_post2)\n",
    "snr_pa_ilrma_post /= 2.0\n",
    "\n",
    "print(\n",
    "    \"Δsnr [dB]: {:.2f}   {:.2f}\".format(\n",
    "        snr_pa_ilrma_post - snr_pre,\n",
    "        snr_pa_ilrma_post - snr_pre,\n",
    "    )\n",
    ")"
   ]
  },
  {
   "cell_type": "code",
   "execution_count": 7,
   "metadata": {},
   "outputs": [],
   "source": [
    "write_signal_to_wav(multi_conv_data_left_no_noise, \"./no_noise_left.wav\", sample_rate)\n",
    "write_signal_to_wav(multi_conv_data_right_no_noise, \"./no_noise_right.wav\", sample_rate)\n",
    "write_signal_to_wav(multi_conv_data, \"./multi_conv_data.wav\", sample_rate)\n",
    "\n",
    "write_signal_to_wav(y_pa_auxiva, \"./pa_auxiva.wav\", sample_rate)\n",
    "write_signal_to_wav(y_pa_ilrma, \"./pa_ilrma.wav\", sample_rate)"
   ]
  },
  {
   "cell_type": "markdown",
   "metadata": {},
   "source": [
    "TODO: スペクトログラム表示のための関数を作成"
   ]
  },
  {
   "cell_type": "code",
   "execution_count": null,
   "metadata": {},
   "outputs": [],
   "source": []
  }
 ],
 "metadata": {
  "kernelspec": {
   "display_name": "audio",
   "language": "python",
   "name": "python3"
  },
  "language_info": {
   "codemirror_mode": {
    "name": "ipython",
    "version": 3
   },
   "file_extension": ".py",
   "mimetype": "text/x-python",
   "name": "python",
   "nbconvert_exporter": "python",
   "pygments_lexer": "ipython3",
   "version": "3.10.11"
  },
  "orig_nbformat": 4
 },
 "nbformat": 4,
 "nbformat_minor": 2
}
