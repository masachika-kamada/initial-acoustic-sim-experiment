{
 "cells": [
  {
   "cell_type": "markdown",
   "metadata": {},
   "source": [
    "参考：https://github.com/aishoot/Sound_Localization_Algorithms/tree/master/MUSIC-DOA-Estimation"
   ]
  },
  {
   "cell_type": "code",
   "execution_count": null,
   "metadata": {},
   "outputs": [],
   "source": [
    "import numpy as np\n",
    "import matplotlib.pyplot as plt\n",
    "import scipy"
   ]
  },
  {
   "cell_type": "markdown",
   "metadata": {},
   "source": [
    "# MUSIC"
   ]
  },
  {
   "cell_type": "code",
   "execution_count": null,
   "metadata": {},
   "outputs": [],
   "source": [
    "N = 3\n",
    "M = 10\n",
    "p = 100\n",
    "fc = 1e6\n",
    "fs = 1e7\n",
    "np.random.seed(0)"
   ]
  },
  {
   "cell_type": "markdown",
   "metadata": {},
   "source": [
    "信号源の生成\n",
    "\n",
    "* 信号源は複素数\n",
    "* $N \\times p$ の複素数行列 `s` を生成\n",
    "* 各信号はランダムな振幅 `amp` を持つ\n",
    "  * `np.random.multivariate_normal` 関数は、多変量正規分布からサンプルを生成するための関数\n",
    "  * `mean`：平均ベクトル、平均値は 0\n",
    "  * `cov`：共分散行列、単位行列 `np.diag(np.ones(N))`\n",
    "* キャリア周波数 fc の正弦波としてモデル化\n",
    "  * オイラーの公式 $e^{jx} = \\cos(x) + j \\sin(x)$ より、複素数を使って正弦波を表現\n",
    "  * この中の `x`: 角度 を `t_val` をすこしずつ進めることで回している\n",
    "  * そこに `amp` をかけることで、振幅を変えている"
   ]
  },
  {
   "cell_type": "code",
   "execution_count": null,
   "metadata": {},
   "outputs": [],
   "source": [
    "s = np.zeros((N, p), dtype=complex)  # 複素数型で初期化\n",
    "for t in range(p):\n",
    "    t_val = t / fs  # 時間の値を計算\n",
    "    amp = np.random.multivariate_normal(mean=np.zeros(N), cov=np.diag(np.ones(N)))  # 振幅をランダムに生成\n",
    "    s[:, t] = np.exp(1j * 2 * np.pi * fc * t_val) * amp\n",
    "print(f\"{s.shape=}\")"
   ]
  },
  {
   "cell_type": "code",
   "execution_count": null,
   "metadata": {},
   "outputs": [],
   "source": [
    "plt.figure(figsize=(12, 5))\n",
    "\n",
    "plt.subplot(2, 1, 1)\n",
    "for i in range(N):\n",
    "    plt.plot(s[i, :].real, label=f\"Signal {i+1}\")\n",
    "plt.title(\"Real Parts\")\n",
    "plt.legend()\n",
    "plt.grid()\n",
    "\n",
    "plt.subplot(2, 1, 2)\n",
    "for i in range(N):\n",
    "    plt.plot(s[i, :].imag, label=f\"Signal {i+1}\")\n",
    "plt.title(\"Imaginary Parts\")\n",
    "plt.legend()\n",
    "plt.grid()\n",
    "\n",
    "plt.tight_layout()\n",
    "plt.show()"
   ]
  },
  {
   "cell_type": "markdown",
   "metadata": {},
   "source": [
    "受信信号の取得：遅延の影響（ステアリング行列を使用）とノイズの混入後\n",
    "\n",
    "ここでは、信号源からの信号が受信アンテナに到達するまでの遅延の影響を考慮し、ノイズと混合した結果の信号を取得します。\n",
    "\n",
    "信号源からの信号の方向到達（DOA）はそれぞれ 20度、50度、85度、110度、145度 と仮定します。これらの値は MUSIC アルゴリズムを使用して求めます。\n",
    "\n",
    "信号が光速 $c = 3 \\times 10^8 m/s$ で伝播すると仮定します。\n",
    "\n",
    "受信アンテナは直線上に配置され、隣接するアンテナ間の間隔は 150m とします。"
   ]
  },
  {
   "cell_type": "code",
   "execution_count": null,
   "metadata": {},
   "outputs": [],
   "source": [
    "# DOAs (Direction of Arrivals) in radians\n",
    "doas = np.array([50, 85, 145]) * np.pi / 180\n",
    "\n",
    "speed_of_light = 3e8\n",
    "antenna_spacing = 150\n",
    "\n",
    "# Steering Vector as a function of angle theta\n",
    "def compute_steering_vector(theta):\n",
    "    steering_vector = np.exp(-1j * 2 * np.pi * fc * antenna_spacing * (np.cos(theta) / speed_of_light) * np.arange(M))\n",
    "    return steering_vector.reshape((M, 1))\n",
    "\n",
    "# Steering matrix\n",
    "A = np.zeros((M, N), dtype=complex)\n",
    "for i in range(N):\n",
    "    A[:, i] = compute_steering_vector(doas[i])[:, 0]\n",
    "\n",
    "print(f\"Shape of steering matrix: {A.shape}\")"
   ]
  },
  {
   "cell_type": "markdown",
   "metadata": {},
   "source": [
    "受信信号 $x(t)$ は、以下のようにモデル化される：\n",
    "\n",
    "$$x(t) = A(\\theta) \\cdot s(t) + n(t)$$\n",
    "\n",
    "ここで、$n(t)$ は各受信機における白色ガウスノイズを表す"
   ]
  },
  {
   "cell_type": "code",
   "execution_count": null,
   "metadata": {},
   "outputs": [],
   "source": [
    "n = np.random.multivariate_normal(mean=np.zeros(M), cov=np.diag(np.ones(M)), size=p).T\n",
    "X = A @ s + n\n",
    "print(f\"{X.shape=}\")"
   ]
  },
  {
   "cell_type": "markdown",
   "metadata": {},
   "source": [
    "MUSICアルゴリズムの適用：\n",
    "\n",
    "受信信号データ `X`、信号源の周波数 `fc`、信号源の数 `M` が既知の場合、MUSIC アルゴリズムを使用して、各信号源の到達方向（DOA）を推定\n",
    "\n",
    "* 相関行列 `R` を計算する\n",
    "  * conj は複素共役\n",
    "  * エルミート転置をするために、複素共役を撮った後に転置\n",
    "  * サンプル数 `p` で割って正規化\n",
    "* 信号源とノイズの部分空間を分けるためには、固有値が大きいものを選択すればよいので、固有値の大きい順に並べ替える\n",
    "* $Av = \\lambda v$ の性質が成り立っていることを確認\n",
    "  * 固有ベクトルと固有値の計算が正しく行われていることを確認できる"
   ]
  },
  {
   "cell_type": "code",
   "execution_count": null,
   "metadata": {},
   "outputs": [],
   "source": [
    "# Compute covariance matrix of X\n",
    "Rxx = X @ X.conj().T / p\n",
    "\n",
    "# Compute eigen values and eigen vectors\n",
    "eigvals, eigvecs = np.linalg.eig(Rxx)  # 固有値と固有ベクトル\n",
    "eigvals = eigvals.real\n",
    "eignorms = np.abs(eigvals)\n",
    "\n",
    "# Sort eigvals and eigvecs in decreasing order of eigvals\n",
    "idx = eignorms.argsort()[::-1]\n",
    "eignorms = eignorms[idx]\n",
    "eigvals = eigvals[idx]\n",
    "eigvecs = eigvecs[:, idx]\n",
    "\n",
    "print(\"eigvals=\", eigvals)"
   ]
  },
  {
   "cell_type": "code",
   "execution_count": null,
   "metadata": {},
   "outputs": [],
   "source": [
    "# Plotting Eigen Values\n",
    "fig, ax = plt.subplots(figsize=(18, 6))\n",
    "ax.scatter(np.arange(N), eigvals[:N], label=\"N EigVals from Source\")\n",
    "ax.scatter(np.arange(N,M), eigvals[N:], label=\"M-N EigVals from Noise\")\n",
    "plt.legend()"
   ]
  },
  {
   "cell_type": "markdown",
   "metadata": {},
   "source": [
    "ノイズによる下位M-Nの固有値がほぼ等しい（= lb0）こと、および上位Nの固有値lbiがlb0より大きいことを確認"
   ]
  },
  {
   "cell_type": "code",
   "execution_count": null,
   "metadata": {},
   "outputs": [],
   "source": [
    "# separating source and noise eigvectors\n",
    "signal_eigvecs, noise_eigvecs = eigvecs[:, :N], eigvecs[:, N:]\n",
    "print(signal_eigvecs.shape)\n",
    "print(noise_eigvecs.shape)"
   ]
  },
  {
   "cell_type": "markdown",
   "metadata": {},
   "source": [
    "MUSIC スペクトルを計算\n",
    "\n",
    "$$P(\\theta) = \\frac{{\\mathbf{v}^H(\\theta) \\mathbf{v}(\\theta)}}{{\\| \\mathbf{v}^H(\\theta) \\mathbf{E} \\|^2}} = \\frac{{\\mathbf{v}^H(\\theta) \\mathbf{v}(\\theta)}}{{\\mathbf{v}^H(\\theta) \\mathbf{E} \\mathbf{E}^H \\mathbf{v}(\\theta)}}$$\n",
    "\n",
    "* $\\mathbf{v}(\\theta)$ はステアリングベクトル (steering vector)\n",
    "* $\\mathbf{E}$ はノイズ部分空間を表す固有ベクトル (eigen vectors representing the noise subspace)"
   ]
  },
  {
   "cell_type": "code",
   "execution_count": null,
   "metadata": {},
   "outputs": [],
   "source": [
    "def compute_music_spectrum(theta):\n",
    "    steering_vector = compute_steering_vector(theta)\n",
    "    vector_norm_squared = np.abs(steering_vector.conj().T @ steering_vector)[0,0]\n",
    "    noise_projection = steering_vector.conj().T @ noise_eigvecs @ noise_eigvecs.conj().T @ steering_vector\n",
    "    return vector_norm_squared / noise_projection[0, 0]"
   ]
  },
  {
   "cell_type": "code",
   "execution_count": null,
   "metadata": {},
   "outputs": [],
   "source": [
    "# Search for all possible theta\n",
    "theta_vals = np.arange(0, 181, 1)\n",
    "music_spectrum_vals = np.array([compute_music_spectrum(val * np.pi / 180.0) for val in theta_vals]).real\n",
    "\n",
    "fig, ax = plt.subplots(figsize=(12, 6))\n",
    "plt.plot(np.abs(theta_vals), music_spectrum_vals)\n",
    "plt.xticks(np.arange(0, 181, 10))\n",
    "plt.xticks(np.arange(0, 181, 20))\n",
    "plt.xlim(-5, 185)\n",
    "plt.grid()\n",
    "\n",
    "# Add labels and title\n",
    "plt.xlabel(\"Angle (degrees)\")\n",
    "plt.ylabel(\"MUSIC Spectrum\")\n",
    "plt.title(\"MUSIC Spectrum\")"
   ]
  },
  {
   "cell_type": "code",
   "execution_count": null,
   "metadata": {},
   "outputs": [],
   "source": [
    "# parameters for peak finding\n",
    "height = np.max(music_spectrum_vals) * 0.1  # peaks are at least 10% of max\n",
    "distance = 10  # peaks are at least 10 degrees apart\n",
    "\n",
    "peak_indices, _ = scipy.signal.find_peaks(music_spectrum_vals, height=height, distance=distance)\n",
    "print(theta_vals[peak_indices])"
   ]
  },
  {
   "cell_type": "markdown",
   "metadata": {},
   "source": [
    "# GEVD-MUSIC"
   ]
  },
  {
   "cell_type": "code",
   "execution_count": null,
   "metadata": {},
   "outputs": [],
   "source": [
    "# Noise DOAs (Direction of Arrivals) in radians\n",
    "noise_doas = np.array([20, 110]) * np.pi / 180\n",
    "\n",
    "# Noise matrix\n",
    "N_noise = len(noise_doas)\n",
    "s_noise = np.zeros((N_noise, p), dtype=complex)  # Initialize as complex numbers\n",
    "for t in range(p):\n",
    "    t_val = t / fs  # Calculate the value of time\n",
    "    amp = np.random.multivariate_normal(mean=np.zeros(N_noise), cov=np.diag(np.ones(N_noise)))  # Generate amplitude randomly\n",
    "    s_noise[:, t] = np.exp(1j * 2 * np.pi * fc * t_val) * amp\n",
    "\n",
    "print(f\"{s_noise.shape=}\")"
   ]
  },
  {
   "cell_type": "code",
   "execution_count": null,
   "metadata": {},
   "outputs": [],
   "source": [
    "# Steering matrix for noise\n",
    "A_noise = np.zeros((M, N_noise), dtype=complex)\n",
    "for i in range(N_noise):\n",
    "    A_noise[:, i] = compute_steering_vector(noise_doas[i])[:, 0]\n",
    "\n",
    "# Generate the received noise signal\n",
    "n = np.random.multivariate_normal(mean=np.zeros(M), cov=np.diag(np.ones(M)), size=p).T\n",
    "X_noise = A_noise @ s_noise + n\n",
    "\n",
    "# Compute the noise correlation matrix\n",
    "Rnn = X_noise @ X_noise.conj().T / p"
   ]
  },
  {
   "cell_type": "code",
   "execution_count": null,
   "metadata": {},
   "outputs": [],
   "source": [
    "# Generate the received signal with noise and source signals\n",
    "X_total = X + X_noise  # shape: (10, 100)\n",
    "# Compute covariance matrix of X_total\n",
    "Rxx_total = X_total @ X_total.conj().T / p"
   ]
  },
  {
   "cell_type": "markdown",
   "metadata": {},
   "source": [
    "単に MUSIC をかけるとノイズの影響を受ける"
   ]
  },
  {
   "cell_type": "code",
   "execution_count": null,
   "metadata": {},
   "outputs": [],
   "source": [
    "eigvals, eigvecs = np.linalg.eig(Rxx_total)\n",
    "\n",
    "idx = eigvals.argsort()[::-1]\n",
    "eigvals = eigvals[idx]\n",
    "eigvecs = eigvecs[:,idx]\n",
    "\n",
    "# Separate source and noise eigvectors\n",
    "signal_eigvecs, noise_eigvecs = eigvecs[:, :N], eigvecs[:, N:]\n",
    "\n",
    "# Compute the MUSIC spectrum and find the peaks as before\n",
    "music_spectrum_vals = np.array([compute_music_spectrum(val * np.pi / 180.0) for val in theta_vals]).real\n",
    "\n",
    "fig, ax = plt.subplots(figsize=(12, 6))\n",
    "plt.plot(np.abs(theta_vals), music_spectrum_vals)\n",
    "plt.xticks(np.arange(0, 181, 10))\n",
    "plt.xticks(np.arange(0, 181, 20))\n",
    "plt.xlim(-5, 185)\n",
    "plt.grid()\n",
    "\n",
    "# Add labels and title\n",
    "plt.xlabel(\"Angle (degrees)\")\n",
    "plt.ylabel(\"MUSIC Spectrum\")\n",
    "plt.title(\"MUSIC Spectrum\")"
   ]
  },
  {
   "cell_type": "markdown",
   "metadata": {},
   "source": [
    "GEVD だとノイズを抑制できる"
   ]
  },
  {
   "cell_type": "code",
   "execution_count": null,
   "metadata": {},
   "outputs": [],
   "source": [
    "# Perform GEVD\n",
    "eigvals, eigvecs = scipy.linalg.eig(Rxx_total, Rnn)\n",
    "\n",
    "# Sort in decreasing order of eigenvalues\n",
    "idx = eigvals.argsort()[::-1]\n",
    "eigvals = eigvals[idx]\n",
    "eigvecs = eigvecs[:,idx]\n",
    "\n",
    "# Separate source and noise eigvectors\n",
    "signal_eigvecs, noise_eigvecs = eigvecs[:, :N], eigvecs[:, N:]\n",
    "\n",
    "# Compute the MUSIC spectrum and find the peaks as before\n",
    "music_spectrum_vals = np.array([compute_music_spectrum(val * np.pi / 180.0) for val in theta_vals]).real\n",
    "\n",
    "fig, ax = plt.subplots(figsize=(12, 6))\n",
    "plt.plot(np.abs(theta_vals), music_spectrum_vals)\n",
    "plt.xticks(np.arange(0, 181, 10))\n",
    "plt.xticks(np.arange(0, 181, 20))\n",
    "plt.xlim(-5, 185)\n",
    "plt.grid()\n",
    "\n",
    "# Add labels and title\n",
    "plt.xlabel(\"Angle (degrees)\")\n",
    "plt.ylabel(\"MUSIC Spectrum\")\n",
    "plt.title(\"MUSIC Spectrum\")"
   ]
  },
  {
   "cell_type": "code",
   "execution_count": null,
   "metadata": {},
   "outputs": [],
   "source": []
  }
 ],
 "metadata": {
  "kernelspec": {
   "display_name": "Python 3",
   "language": "python",
   "name": "python3"
  },
  "language_info": {
   "codemirror_mode": {
    "name": "ipython",
    "version": 3
   },
   "file_extension": ".py",
   "mimetype": "text/x-python",
   "name": "python",
   "nbconvert_exporter": "python",
   "pygments_lexer": "ipython3",
   "version": "3.10.11"
  }
 },
 "nbformat": 4,
 "nbformat_minor": 2
}
