{
 "cells": [
  {
   "cell_type": "code",
   "execution_count": null,
   "metadata": {},
   "outputs": [],
   "source": [
    "import pyroomacoustics as pra\n",
    "import numpy as np\n",
    "\n",
    "import sys\n",
    "sys.path.append(\"../\")\n",
    "from src.file_io import load_signal_from_wav, write_signal_to_wav\n",
    "from src.visualization_tools import plot_room, plot_room_views, play_audio\n",
    "from src.simulation_data_utils import create_outdoor_room, circular_layout, perform_simulation\n",
    "\n",
    "np.random.seed(0)"
   ]
  },
  {
   "cell_type": "markdown",
   "metadata": {},
   "source": [
    "部屋を作成"
   ]
  },
  {
   "cell_type": "code",
   "execution_count": null,
   "metadata": {},
   "outputs": [],
   "source": [
    "room_dim = np.array([50, 50, 50])  # 部屋の大きさ（x, y, z）\n",
    "fs = 16000\n",
    "\n",
    "room = create_outdoor_room(room_dim, fs)"
   ]
  },
  {
   "cell_type": "markdown",
   "metadata": {},
   "source": [
    "マイク配置"
   ]
  },
  {
   "cell_type": "code",
   "execution_count": null,
   "metadata": {},
   "outputs": [],
   "source": [
    "height = 10  # マイクアレイの高さ（メートル）\n",
    "center = room_dim / 2  # 部屋の中心をマイクアレイの中心とする\n",
    "center[2] = height  # マイクアレイの高さを設定\n",
    "radius = 0.05  # マイクアレイの半径（メートル）\n",
    "num_mics = 8  # マイクの数\n",
    "\n",
    "# マイクアレイの位置を計算\n",
    "mic_positions = circular_layout(center, radius, num_mics)\n",
    "\n",
    "# マイクロフォンアレイを作成して部屋に配置\n",
    "mic_array = pra.MicrophoneArray(mic_positions, room.fs)\n",
    "room.add_microphone_array(mic_array)"
   ]
  },
  {
   "cell_type": "markdown",
   "metadata": {},
   "source": [
    "ドローンのプロペラ配置"
   ]
  },
  {
   "cell_type": "code",
   "execution_count": null,
   "metadata": {},
   "outputs": [],
   "source": [
    "num_sources = 4  # 音源の数（ドローンのプロペラ数）\n",
    "source_radius = 0.2  # 音源配置の半径（メートル）\n",
    "diff_z = 5\n",
    "source_shift = np.array([0, 0, diff_z])  # 音源のずれ（メートル）\n",
    "\n",
    "source_path = \"../data/processed/propeller/p2000_2/dst.wav\"\n",
    "source_signal = load_signal_from_wav(source_path, fs)\n",
    "source_signal.shape"
   ]
  },
  {
   "cell_type": "code",
   "execution_count": null,
   "metadata": {},
   "outputs": [],
   "source": [
    "# 音源の位置を計算\n",
    "source_positions = circular_layout(center + source_shift, source_radius, num_sources)\n",
    "\n",
    "samples_per_source = len(source_signal) // num_sources\n",
    "# 音源を部屋に追加\n",
    "for i, pos in enumerate(source_positions.T):\n",
    "    room.add_source(pos, signal=source_signal[samples_per_source * i:samples_per_source * (i + 1)])\n",
    "\n",
    "plot_room(room)"
   ]
  },
  {
   "cell_type": "code",
   "execution_count": null,
   "metadata": {},
   "outputs": [],
   "source": [
    "plot_room_views(room)"
   ]
  },
  {
   "cell_type": "code",
   "execution_count": null,
   "metadata": {},
   "outputs": [],
   "source": [
    "plot_room_views(room, zoom_center=center, zoom_size=1)"
   ]
  },
  {
   "cell_type": "markdown",
   "metadata": {},
   "source": [
    "シミュレーション"
   ]
  },
  {
   "cell_type": "code",
   "execution_count": null,
   "metadata": {},
   "outputs": [],
   "source": [
    "simulated_signals = perform_simulation(room)"
   ]
  },
  {
   "cell_type": "code",
   "execution_count": null,
   "metadata": {},
   "outputs": [],
   "source": [
    "play_audio(simulated_signals[0], fs)"
   ]
  },
  {
   "cell_type": "code",
   "execution_count": null,
   "metadata": {},
   "outputs": [],
   "source": [
    "simulated_signals.shape"
   ]
  },
  {
   "cell_type": "code",
   "execution_count": null,
   "metadata": {},
   "outputs": [],
   "source": [
    "write_signal_to_wav(simulated_signals, f\"../data/simulation/drone_{diff_z}_absorption_0.wav\", fs)"
   ]
  },
  {
   "cell_type": "code",
   "execution_count": null,
   "metadata": {},
   "outputs": [],
   "source": []
  }
 ],
 "metadata": {
  "kernelspec": {
   "display_name": "audio",
   "language": "python",
   "name": "python3"
  },
  "language_info": {
   "codemirror_mode": {
    "name": "ipython",
    "version": 3
   },
   "file_extension": ".py",
   "mimetype": "text/x-python",
   "name": "python",
   "nbconvert_exporter": "python",
   "pygments_lexer": "ipython3",
   "version": "3.10.12"
  }
 },
 "nbformat": 4,
 "nbformat_minor": 2
}
